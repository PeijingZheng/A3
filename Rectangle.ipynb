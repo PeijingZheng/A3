{
 "cells": [
  {
   "cell_type": "code",
   "execution_count": 5,
   "id": "f624c3a6",
   "metadata": {},
   "outputs": [
    {
     "name": "stdout",
     "output_type": "stream",
     "text": [
      "The area of the defined rectangle: 12.0\n"
     ]
    }
   ],
   "source": [
    "from shapely.geometry import Polygon\n",
    "\n",
    "# Define the coordinates of the four vertices of a rectangle\n",
    "x_coords = [0, 0, 4, 4]\n",
    "y_coords = [0, 3, 3, 0]\n",
    "\n",
    "# Create a Polygon object\n",
    "rectangle = Polygon(zip(x_coords, y_coords))\n",
    "\n",
    "# Calculate the area of a rectangle\n",
    "area = rectangle.area\n",
    "\n",
    "print(\"The area of the defined rectangle:\", area)"
   ]
  },
  {
   "cell_type": "code",
   "execution_count": null,
   "id": "2d4f2a20",
   "metadata": {},
   "outputs": [],
   "source": []
  }
 ],
 "metadata": {
  "kernelspec": {
   "display_name": "Python 3 (ipykernel)",
   "language": "python",
   "name": "python3"
  },
  "language_info": {
   "codemirror_mode": {
    "name": "ipython",
    "version": 3
   },
   "file_extension": ".py",
   "mimetype": "text/x-python",
   "name": "python",
   "nbconvert_exporter": "python",
   "pygments_lexer": "ipython3",
   "version": "3.11.3"
  }
 },
 "nbformat": 4,
 "nbformat_minor": 5
}
